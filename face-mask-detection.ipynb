{
 "cells": [
  {
   "cell_type": "markdown",
   "metadata": {},
   "source": [
    "## Problem Statement\n",
    "\n",
    "Given a dataset containing 12,000 images, create a Neural Network model to predict whether a person is wearing a Mask or not"
   ]
  },
  {
   "cell_type": "markdown",
   "metadata": {},
   "source": [
    "## Importing the required libraries"
   ]
  },
  {
   "cell_type": "code",
   "execution_count": 2,
   "metadata": {
    "execution": {
     "iopub.execute_input": "2021-07-05T07:44:20.026530Z",
     "iopub.status.busy": "2021-07-05T07:44:20.026168Z",
     "iopub.status.idle": "2021-07-05T07:44:25.071410Z",
     "shell.execute_reply": "2021-07-05T07:44:25.070562Z",
     "shell.execute_reply.started": "2021-07-05T07:44:20.026497Z"
    }
   },
   "outputs": [],
   "source": [
    "import os\n",
    "import matplotlib.pyplot as plt\n",
    "import tensorflow as tf\n",
    "from tensorflow import keras\n",
    "from tensorflow.keras import models\n",
    "from tensorflow.keras import layers\n",
    "from tensorflow.keras.preprocessing.image import ImageDataGenerator\n",
    "from tensorflow.keras.applications.vgg16 import VGG16"
   ]
  },
  {
   "cell_type": "code",
   "execution_count": 3,
   "metadata": {
    "execution": {
     "iopub.execute_input": "2021-07-05T07:44:25.073545Z",
     "iopub.status.busy": "2021-07-05T07:44:25.073171Z",
     "iopub.status.idle": "2021-07-05T07:44:25.080573Z",
     "shell.execute_reply": "2021-07-05T07:44:25.079597Z",
     "shell.execute_reply.started": "2021-07-05T07:44:25.073508Z"
    }
   },
   "outputs": [
    {
     "name": "stdout",
     "output_type": "stream",
     "text": [
      "['Validation', 'Test', 'Train']\n"
     ]
    }
   ],
   "source": [
    "print(os.listdir('../input/face-mask-12k-images-dataset/Face Mask Dataset/'))"
   ]
  },
  {
   "cell_type": "markdown",
   "metadata": {},
   "source": [
    "## Paths for Train & Test directories"
   ]
  },
  {
   "cell_type": "code",
   "execution_count": 4,
   "metadata": {
    "execution": {
     "iopub.execute_input": "2021-07-05T07:44:25.082419Z",
     "iopub.status.busy": "2021-07-05T07:44:25.082049Z",
     "iopub.status.idle": "2021-07-05T07:44:25.092616Z",
     "shell.execute_reply": "2021-07-05T07:44:25.091806Z",
     "shell.execute_reply.started": "2021-07-05T07:44:25.082384Z"
    }
   },
   "outputs": [],
   "source": [
    "train_dir = '../input/face-mask-12k-images-dataset/Face Mask Dataset/Train'\n",
    "test_dir = '../input/face-mask-12k-images-dataset/Face Mask Dataset/Test'\n",
    "val_dir = '../input/face-mask-12k-images-dataset/Face Mask Dataset/Validation'"
   ]
  },
  {
   "cell_type": "markdown",
   "metadata": {},
   "source": [
    "## Generating extra data from the existing data by using Data Augmentation"
   ]
  },
  {
   "cell_type": "code",
   "execution_count": 5,
   "metadata": {
    "execution": {
     "iopub.execute_input": "2021-07-05T07:44:25.094233Z",
     "iopub.status.busy": "2021-07-05T07:44:25.093834Z",
     "iopub.status.idle": "2021-07-05T07:44:25.101972Z",
     "shell.execute_reply": "2021-07-05T07:44:25.101237Z",
     "shell.execute_reply.started": "2021-07-05T07:44:25.094199Z"
    }
   },
   "outputs": [],
   "source": [
    "train_datagen = ImageDataGenerator(rescale=1./255,\n",
    "                                   rotation_range=40,\n",
    "                                   width_shift_range=0.2,\n",
    "                                   height_shift_range=0.2,\n",
    "                                   shear_range=0.2,\n",
    "                                   zoom_range=0.2,\n",
    "                                   horizontal_flip=True)\n",
    "\n",
    "val_datagen = ImageDataGenerator(rescale=1./255,\n",
    "                                   rotation_range=40,\n",
    "                                   width_shift_range=0.2,\n",
    "                                   height_shift_range=0.2,\n",
    "                                   shear_range=0.2,\n",
    "                                   zoom_range=0.2,\n",
    "                                   horizontal_flip=True)"
   ]
  },
  {
   "cell_type": "code",
   "execution_count": 6,
   "metadata": {
    "execution": {
     "iopub.execute_input": "2021-07-05T07:44:25.103928Z",
     "iopub.status.busy": "2021-07-05T07:44:25.103694Z",
     "iopub.status.idle": "2021-07-05T07:44:25.658880Z",
     "shell.execute_reply": "2021-07-05T07:44:25.658069Z",
     "shell.execute_reply.started": "2021-07-05T07:44:25.103906Z"
    }
   },
   "outputs": [
    {
     "name": "stdout",
     "output_type": "stream",
     "text": [
      "Found 10000 images belonging to 2 classes.\n",
      "Found 800 images belonging to 2 classes.\n"
     ]
    }
   ],
   "source": [
    "train_generator = train_datagen.flow_from_directory(train_dir,\n",
    "                                                    target_size=(150,150),\n",
    "                                                    batch_size=32,\n",
    "                                                    class_mode='binary')\n",
    "\n",
    "validation_generator = val_datagen.flow_from_directory(val_dir,\n",
    "                                                        target_size=(150,150),\n",
    "                                                        batch_size=32,\n",
    "                                                        class_mode='binary')"
   ]
  },
  {
   "cell_type": "markdown",
   "metadata": {},
   "source": [
    "## Model Building (Transfer Learning : VGG16)"
   ]
  },
  {
   "cell_type": "code",
   "execution_count": 7,
   "metadata": {
    "execution": {
     "iopub.execute_input": "2021-07-05T07:44:25.660488Z",
     "iopub.status.busy": "2021-07-05T07:44:25.660138Z",
     "iopub.status.idle": "2021-07-05T07:44:28.115653Z",
     "shell.execute_reply": "2021-07-05T07:44:28.114794Z",
     "shell.execute_reply.started": "2021-07-05T07:44:25.660452Z"
    }
   },
   "outputs": [
    {
     "name": "stdout",
     "output_type": "stream",
     "text": [
      "Downloading data from https://storage.googleapis.com/tensorflow/keras-applications/vgg16/vgg16_weights_tf_dim_ordering_tf_kernels_notop.h5\n",
      "58892288/58889256 [==============================] - 0s 0us/step\n"
     ]
    }
   ],
   "source": [
    "# Only including the Convolutional layers and ignoring the further Dense layers \n",
    "# (as our application differs from the one the model was trained upon)\n",
    "\n",
    "conv_base = VGG16(include_top=False, input_shape=(150,150,3))"
   ]
  },
  {
   "cell_type": "code",
   "execution_count": 8,
   "metadata": {
    "execution": {
     "iopub.execute_input": "2021-07-05T07:44:28.118217Z",
     "iopub.status.busy": "2021-07-05T07:44:28.117944Z",
     "iopub.status.idle": "2021-07-05T07:44:28.123844Z",
     "shell.execute_reply": "2021-07-05T07:44:28.122350Z",
     "shell.execute_reply.started": "2021-07-05T07:44:28.118192Z"
    }
   },
   "outputs": [],
   "source": [
    "# Not training the already trained Convolutional layers from the Pre-trained model\n",
    "for layer in conv_base.layers:\n",
    "    layer.trainable = False"
   ]
  },
  {
   "cell_type": "code",
   "execution_count": 9,
   "metadata": {
    "execution": {
     "iopub.execute_input": "2021-07-05T07:44:28.126007Z",
     "iopub.status.busy": "2021-07-05T07:44:28.125642Z",
     "iopub.status.idle": "2021-07-05T07:44:28.216944Z",
     "shell.execute_reply": "2021-07-05T07:44:28.216200Z",
     "shell.execute_reply.started": "2021-07-05T07:44:28.125972Z"
    }
   },
   "outputs": [],
   "source": [
    "# Model with Convolutional Base = VGG16 & Classifier = Custom made\n",
    "model = models.Sequential([\n",
    "                           conv_base,\n",
    "                           layers.Flatten(),\n",
    "                           layers.Dropout((0.3)),\n",
    "                           layers.Dense(512, activation='relu'),\n",
    "                           layers.BatchNormalization(),\n",
    "                           layers.Dense(256, activation='relu'),\n",
    "                           layers.Dense(1, activation='sigmoid')\n",
    "])"
   ]
  },
  {
   "cell_type": "code",
   "execution_count": 10,
   "metadata": {
    "execution": {
     "iopub.execute_input": "2021-07-05T07:44:28.218450Z",
     "iopub.status.busy": "2021-07-05T07:44:28.218122Z",
     "iopub.status.idle": "2021-07-05T07:44:28.228939Z",
     "shell.execute_reply": "2021-07-05T07:44:28.228138Z",
     "shell.execute_reply.started": "2021-07-05T07:44:28.218417Z"
    }
   },
   "outputs": [
    {
     "name": "stdout",
     "output_type": "stream",
     "text": [
      "Model: \"sequential\"\n",
      "_________________________________________________________________\n",
      "Layer (type)                 Output Shape              Param #   \n",
      "=================================================================\n",
      "vgg16 (Functional)           (None, 4, 4, 512)         14714688  \n",
      "_________________________________________________________________\n",
      "flatten (Flatten)            (None, 8192)              0         \n",
      "_________________________________________________________________\n",
      "dropout (Dropout)            (None, 8192)              0         \n",
      "_________________________________________________________________\n",
      "dense (Dense)                (None, 512)               4194816   \n",
      "_________________________________________________________________\n",
      "batch_normalization (BatchNo (None, 512)               2048      \n",
      "_________________________________________________________________\n",
      "dense_1 (Dense)              (None, 256)               131328    \n",
      "_________________________________________________________________\n",
      "dense_2 (Dense)              (None, 1)                 257       \n",
      "=================================================================\n",
      "Total params: 19,043,137\n",
      "Trainable params: 4,327,425\n",
      "Non-trainable params: 14,715,712\n",
      "_________________________________________________________________\n"
     ]
    }
   ],
   "source": [
    "model.summary()"
   ]
  },
  {
   "cell_type": "code",
   "execution_count": 11,
   "metadata": {
    "execution": {
     "iopub.execute_input": "2021-07-05T07:44:28.230391Z",
     "iopub.status.busy": "2021-07-05T07:44:28.230026Z",
     "iopub.status.idle": "2021-07-05T07:44:28.246025Z",
     "shell.execute_reply": "2021-07-05T07:44:28.245166Z",
     "shell.execute_reply.started": "2021-07-05T07:44:28.230358Z"
    }
   },
   "outputs": [],
   "source": [
    "model.compile(tf.keras.optimizers.Adam(learning_rate=2e-5),\n",
    "              tf.keras.losses.binary_crossentropy,\n",
    "              metrics=['accuracy'])"
   ]
  },
  {
   "cell_type": "code",
   "execution_count": 12,
   "metadata": {
    "execution": {
     "iopub.execute_input": "2021-07-05T07:44:28.247630Z",
     "iopub.status.busy": "2021-07-05T07:44:28.247270Z",
     "iopub.status.idle": "2021-07-05T07:44:28.251800Z",
     "shell.execute_reply": "2021-07-05T07:44:28.250872Z",
     "shell.execute_reply.started": "2021-07-05T07:44:28.247595Z"
    }
   },
   "outputs": [],
   "source": [
    "callback = tf.keras.callbacks.EarlyStopping(monitor='loss', patience=3)"
   ]
  },
  {
   "cell_type": "markdown",
   "metadata": {},
   "source": [
    "## Training"
   ]
  },
  {
   "cell_type": "code",
   "execution_count": 13,
   "metadata": {
    "execution": {
     "iopub.execute_input": "2021-07-05T07:44:28.253765Z",
     "iopub.status.busy": "2021-07-05T07:44:28.253358Z",
     "iopub.status.idle": "2021-07-05T10:24:06.150534Z",
     "shell.execute_reply": "2021-07-05T10:24:06.149595Z",
     "shell.execute_reply.started": "2021-07-05T07:44:28.253731Z"
    }
   },
   "outputs": [
    {
     "name": "stdout",
     "output_type": "stream",
     "text": [
      "Epoch 1/20\n",
      "313/313 [==============================] - 519s 2s/step - loss: 0.5437 - accuracy: 0.7186 - val_loss: 0.1797 - val_accuracy: 0.9350\n",
      "Epoch 2/20\n",
      "313/313 [==============================] - 503s 2s/step - loss: 0.1924 - accuracy: 0.9263 - val_loss: 0.1168 - val_accuracy: 0.9538\n",
      "Epoch 3/20\n",
      "313/313 [==============================] - 503s 2s/step - loss: 0.1353 - accuracy: 0.9516 - val_loss: 0.0932 - val_accuracy: 0.9675\n",
      "Epoch 4/20\n",
      "313/313 [==============================] - 503s 2s/step - loss: 0.1078 - accuracy: 0.9571 - val_loss: 0.0748 - val_accuracy: 0.9750\n",
      "Epoch 5/20\n",
      "313/313 [==============================] - 503s 2s/step - loss: 0.1097 - accuracy: 0.9568 - val_loss: 0.0655 - val_accuracy: 0.9825\n",
      "Epoch 6/20\n",
      "313/313 [==============================] - 503s 2s/step - loss: 0.0993 - accuracy: 0.9630 - val_loss: 0.0638 - val_accuracy: 0.9787\n",
      "Epoch 7/20\n",
      "313/313 [==============================] - 503s 2s/step - loss: 0.0917 - accuracy: 0.9654 - val_loss: 0.0540 - val_accuracy: 0.9850\n",
      "Epoch 8/20\n",
      "313/313 [==============================] - 503s 2s/step - loss: 0.0898 - accuracy: 0.9656 - val_loss: 0.0638 - val_accuracy: 0.9800\n",
      "Epoch 9/20\n",
      "313/313 [==============================] - 503s 2s/step - loss: 0.0846 - accuracy: 0.9703 - val_loss: 0.0548 - val_accuracy: 0.9825\n",
      "Epoch 10/20\n",
      "313/313 [==============================] - 503s 2s/step - loss: 0.0868 - accuracy: 0.9697 - val_loss: 0.0484 - val_accuracy: 0.9825\n",
      "Epoch 11/20\n",
      "313/313 [==============================] - 503s 2s/step - loss: 0.0901 - accuracy: 0.9687 - val_loss: 0.0518 - val_accuracy: 0.9837\n",
      "Epoch 12/20\n",
      "313/313 [==============================] - 503s 2s/step - loss: 0.0779 - accuracy: 0.9680 - val_loss: 0.0425 - val_accuracy: 0.9875\n",
      "Epoch 13/20\n",
      "313/313 [==============================] - 503s 2s/step - loss: 0.0780 - accuracy: 0.9701 - val_loss: 0.0503 - val_accuracy: 0.9825\n",
      "Epoch 14/20\n",
      "313/313 [==============================] - 503s 2s/step - loss: 0.0765 - accuracy: 0.9706 - val_loss: 0.0506 - val_accuracy: 0.9800\n",
      "Epoch 15/20\n",
      "313/313 [==============================] - 503s 2s/step - loss: 0.0709 - accuracy: 0.9742 - val_loss: 0.0407 - val_accuracy: 0.9837\n",
      "Epoch 16/20\n",
      "313/313 [==============================] - 503s 2s/step - loss: 0.0686 - accuracy: 0.9730 - val_loss: 0.0383 - val_accuracy: 0.9812\n",
      "Epoch 17/20\n",
      "313/313 [==============================] - 503s 2s/step - loss: 0.0723 - accuracy: 0.9753 - val_loss: 0.0445 - val_accuracy: 0.9862\n",
      "Epoch 18/20\n",
      "313/313 [==============================] - 503s 2s/step - loss: 0.0775 - accuracy: 0.9689 - val_loss: 0.0497 - val_accuracy: 0.9862\n",
      "Epoch 19/20\n",
      "313/313 [==============================] - 503s 2s/step - loss: 0.0630 - accuracy: 0.9761 - val_loss: 0.0567 - val_accuracy: 0.9800\n"
     ]
    }
   ],
   "source": [
    "history = model.fit(train_generator,\n",
    "                             steps_per_epoch=313,\n",
    "                             epochs=20,\n",
    "                             validation_data=validation_generator,\n",
    "                            validation_steps=25,\n",
    "                           callbacks=[callback])\n",
    "\n",
    "model.save('face-mask-detection.h5')"
   ]
  },
  {
   "cell_type": "code",
   "execution_count": 14,
   "metadata": {
    "execution": {
     "iopub.execute_input": "2021-07-05T10:24:06.154045Z",
     "iopub.status.busy": "2021-07-05T10:24:06.153768Z",
     "iopub.status.idle": "2021-07-05T10:24:06.162416Z",
     "shell.execute_reply": "2021-07-05T10:24:06.161626Z",
     "shell.execute_reply.started": "2021-07-05T10:24:06.154015Z"
    }
   },
   "outputs": [
    {
     "data": {
      "text/plain": [
       "{'loss': [0.366242378950119,\n",
       "  0.16967558860778809,\n",
       "  0.1302689015865326,\n",
       "  0.1096075102686882,\n",
       "  0.1106584444642067,\n",
       "  0.09628956764936447,\n",
       "  0.09450710564851761,\n",
       "  0.09261231124401093,\n",
       "  0.0859542265534401,\n",
       "  0.08412144333124161,\n",
       "  0.08283233642578125,\n",
       "  0.07877734303474426,\n",
       "  0.07839927077293396,\n",
       "  0.07323455810546875,\n",
       "  0.07529361546039581,\n",
       "  0.06994841992855072,\n",
       "  0.07196415215730667,\n",
       "  0.0772177129983902,\n",
       "  0.07148420065641403],\n",
       " 'accuracy': [0.8306000232696533,\n",
       "  0.9368000030517578,\n",
       "  0.953000009059906,\n",
       "  0.9574999809265137,\n",
       "  0.9567000269889832,\n",
       "  0.9660999774932861,\n",
       "  0.9641000032424927,\n",
       "  0.9648000001907349,\n",
       "  0.9693999886512756,\n",
       "  0.9706000089645386,\n",
       "  0.9702000021934509,\n",
       "  0.9702000021934509,\n",
       "  0.970300018787384,\n",
       "  0.9718999862670898,\n",
       "  0.9731000065803528,\n",
       "  0.9728999733924866,\n",
       "  0.9742000102996826,\n",
       "  0.9703999757766724,\n",
       "  0.972599983215332],\n",
       " 'val_loss': [0.17974023520946503,\n",
       "  0.1168229877948761,\n",
       "  0.09315583854913712,\n",
       "  0.07478833198547363,\n",
       "  0.06553664058446884,\n",
       "  0.06381740421056747,\n",
       "  0.05400951951742172,\n",
       "  0.0637640655040741,\n",
       "  0.05483906343579292,\n",
       "  0.048449061810970306,\n",
       "  0.051813703030347824,\n",
       "  0.04246824234724045,\n",
       "  0.05025801807641983,\n",
       "  0.050577398389577866,\n",
       "  0.040725719183683395,\n",
       "  0.038343172520399094,\n",
       "  0.04447448253631592,\n",
       "  0.04973987489938736,\n",
       "  0.0567118376493454],\n",
       " 'val_accuracy': [0.9350000023841858,\n",
       "  0.9537500143051147,\n",
       "  0.9674999713897705,\n",
       "  0.9750000238418579,\n",
       "  0.9825000166893005,\n",
       "  0.9787499904632568,\n",
       "  0.9850000143051147,\n",
       "  0.9800000190734863,\n",
       "  0.9825000166893005,\n",
       "  0.9825000166893005,\n",
       "  0.9837499856948853,\n",
       "  0.987500011920929,\n",
       "  0.9825000166893005,\n",
       "  0.9800000190734863,\n",
       "  0.9837499856948853,\n",
       "  0.981249988079071,\n",
       "  0.9862499833106995,\n",
       "  0.9862499833106995,\n",
       "  0.9800000190734863]}"
      ]
     },
     "execution_count": 14,
     "metadata": {},
     "output_type": "execute_result"
    }
   ],
   "source": [
    "history.history"
   ]
  },
  {
   "cell_type": "markdown",
   "metadata": {},
   "source": [
    "## Results"
   ]
  },
  {
   "cell_type": "code",
   "execution_count": 15,
   "metadata": {
    "execution": {
     "iopub.execute_input": "2021-07-05T10:24:06.164014Z",
     "iopub.status.busy": "2021-07-05T10:24:06.163545Z",
     "iopub.status.idle": "2021-07-05T10:24:06.176203Z",
     "shell.execute_reply": "2021-07-05T10:24:06.175420Z",
     "shell.execute_reply.started": "2021-07-05T10:24:06.163979Z"
    }
   },
   "outputs": [],
   "source": [
    "acc = history.history['accuracy']\n",
    "val_acc = history.history['val_accuracy']\n",
    "loss = history.history['loss']\n",
    "val_loss = history.history['val_loss']\n",
    "\n",
    "epochs = range(1, len(acc) + 1)"
   ]
  },
  {
   "cell_type": "code",
   "execution_count": 16,
   "metadata": {
    "execution": {
     "iopub.execute_input": "2021-07-05T10:24:06.177780Z",
     "iopub.status.busy": "2021-07-05T10:24:06.177380Z",
     "iopub.status.idle": "2021-07-05T10:24:06.187506Z",
     "shell.execute_reply": "2021-07-05T10:24:06.186694Z",
     "shell.execute_reply.started": "2021-07-05T10:24:06.177735Z"
    }
   },
   "outputs": [
    {
     "name": "stdout",
     "output_type": "stream",
     "text": [
      "Training Accuracy : 0.9587052621339497\n",
      "Training Loss : 0.10626784672862605\n",
      "Validation Accuracy : 0.9775657936146385\n",
      "Validation Loss : 0.06526503143341918\n"
     ]
    }
   ],
   "source": [
    "print(f'Training Accuracy : {sum(acc)/len(acc)}')\n",
    "print(f'Training Loss : {sum(loss)/len(loss)}')\n",
    "print(f'Validation Accuracy : {sum(val_acc)/len(val_acc)}')\n",
    "print(f'Validation Loss : {sum(val_loss)/len(val_loss)}')"
   ]
  },
  {
   "cell_type": "code",
   "execution_count": 17,
   "metadata": {
    "execution": {
     "iopub.execute_input": "2021-07-05T10:24:06.189074Z",
     "iopub.status.busy": "2021-07-05T10:24:06.188721Z",
     "iopub.status.idle": "2021-07-05T10:24:06.303149Z",
     "shell.execute_reply": "2021-07-05T10:24:06.302137Z",
     "shell.execute_reply.started": "2021-07-05T10:24:06.189040Z"
    }
   },
   "outputs": [
    {
     "name": "stdout",
     "output_type": "stream",
     "text": [
      "Found 992 images belonging to 2 classes.\n"
     ]
    }
   ],
   "source": [
    "test_datagen = ImageDataGenerator(rescale=1./255)\n",
    "\n",
    "test_generator = test_datagen.flow_from_directory(test_dir,\n",
    "                                                    target_size=(150,150),\n",
    "                                                    batch_size=32,\n",
    "                                                    class_mode='binary',\n",
    ")"
   ]
  },
  {
   "cell_type": "code",
   "execution_count": 18,
   "metadata": {
    "execution": {
     "iopub.execute_input": "2021-07-05T10:24:06.304652Z",
     "iopub.status.busy": "2021-07-05T10:24:06.304338Z",
     "iopub.status.idle": "2021-07-05T10:24:52.830633Z",
     "shell.execute_reply": "2021-07-05T10:24:52.829790Z",
     "shell.execute_reply.started": "2021-07-05T10:24:06.304619Z"
    }
   },
   "outputs": [
    {
     "name": "stdout",
     "output_type": "stream",
     "text": [
      "31/31 [==============================] - 46s 1s/step - loss: 0.0132 - accuracy: 0.9960\n",
      "Test Loss : 0.013159484602510929 \n",
      " Test Accuracy : 0.9959677457809448\n"
     ]
    }
   ],
   "source": [
    "test_loss, test_acc = model.evaluate(test_generator)\n",
    "print(f\"Test Loss : {test_loss} \\n Test Accuracy : {test_acc}\")"
   ]
  },
  {
   "cell_type": "code",
   "execution_count": 19,
   "metadata": {
    "execution": {
     "iopub.execute_input": "2021-07-05T10:24:52.832336Z",
     "iopub.status.busy": "2021-07-05T10:24:52.831963Z",
     "iopub.status.idle": "2021-07-05T10:24:53.128665Z",
     "shell.execute_reply": "2021-07-05T10:24:53.127720Z",
     "shell.execute_reply.started": "2021-07-05T10:24:52.832297Z"
    }
   },
   "outputs": [
    {
     "data": {
      "image/png": "[encoded data removed]",
      "text/plain": [
       "<Figure size 432x288 with 1 Axes>"
      ]
     },
     "metadata": {
      "needs_background": "light"
     },
     "output_type": "display_data"
    },
    {
     "data": {
      "image/png": "[encoded data removed]",
      "text/plain": [
       "<Figure size 432x288 with 1 Axes>"
      ]
     },
     "metadata": {
      "needs_background": "light"
     },
     "output_type": "display_data"
    }
   ],
   "source": [
    "plt.plot(epochs, acc, 'bo', label='Training Accuracy')\n",
    "plt.plot(epochs, val_acc, 'ro', label='Validation Accuracy')\n",
    "plt.title('Training & Validation Accuracy')\n",
    "plt.legend()\n",
    "\n",
    "plt.figure()\n",
    "\n",
    "plt.plot(epochs, loss, 'bo', label='Training Loss')\n",
    "plt.plot(epochs, val_loss, 'ro', label='Validation Loss')\n",
    "plt.title('Training & Validation Loss')\n",
    "plt.legend()\n",
    "\n",
    "plt.show() "
   ]
  }
 ],
 "metadata": {
  "kernelspec": {
   "display_name": "Python 3",
   "language": "python",
   "name": "python3"
  },
  "language_info": {
   "codemirror_mode": {
    "name": "ipython",
    "version": 3
   },
   "file_extension": ".py",
   "mimetype": "text/x-python",
   "name": "python",
   "nbconvert_exporter": "python",
   "pygments_lexer": "ipython3",
   "version": "3.7.10"
  }
 },
 "nbformat": 4,
 "nbformat_minor": 4
}
